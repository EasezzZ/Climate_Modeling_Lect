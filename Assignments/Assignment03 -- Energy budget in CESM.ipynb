{
 "cells": [
  {
   "cell_type": "markdown",
   "metadata": {},
   "source": [
    "# [ATM 623: Climate Modeling](../index.ipynb)\n",
    "\n",
    "[Brian E. J. Rose](http://www.atmos.albany.edu/facstaff/brose/index.html), University at Albany\n",
    "\n",
    "# Climate sensivity and the energy budget in CESM"
   ]
  },
  {
   "cell_type": "markdown",
   "metadata": {},
   "source": [
    "In this assignment you will investigate how the CESM slab ocean model responds to a doubling of atmospheric CO2.\n",
    "\n",
    "Refer to Assignment 2 for detailed instructions on how to access the CESM output.\n",
    "\n",
    "## Your assigment\n",
    "\n",
    "1. Answer all questions listed in this notebook.\n",
    "3. As before, write up your answers (including text, code and figures) in a new IPython notebook. *Try to make sure that your notebook runs cleanly from start to finish, and explicitly imports every package that it uses.*\n",
    "5. Save your notebook as `[your last name].ipynb`, e.g. my notebook should be called `Rose.ipynb`.  \n",
    "4. Submit your answers by email before class on **Tuesday February 21**."
   ]
  },
  {
   "cell_type": "code",
   "execution_count": 1,
   "metadata": {
    "collapsed": true
   },
   "outputs": [],
   "source": [
    "#  Ensure compatibility with Python 2 and 3\n",
    "from __future__ import print_function, division"
   ]
  },
  {
   "cell_type": "markdown",
   "metadata": {},
   "source": [
    "# Homework questions: part A\n",
    "\n",
    "Here we investigate differences between the control simulation and the 2xCO2 simulation (after it has reached its new, warmer equilibrium).\n",
    "\n",
    "The two model output files you need are the control run:\n",
    "\n",
    "`som_1850_f19.cam.h0.clim.nc`\n",
    "\n",
    "and the doubled CO2 run:\n",
    "\n",
    "`som_1850_2xCO2.cam.h0.clim.nc`"
   ]
  },
  {
   "cell_type": "markdown",
   "metadata": {},
   "source": [
    "1. Calculate **Equilibrium Climate Sensitivity** (ECS) for the CESM slab ocean model.\n",
    "\n",
    "2. Calculate the **net TOA energy flux** in the control run and in the equilibrated 2xCO2 run (time and global averages). Are they both close to zero?\n",
    "\n",
    "3. What is the **change in ASR** and the **change in OLR** after doubling CO2?\n",
    "\n",
    "4. What are the **clear-sky** and **cloudy-sky** components of those changes?\n",
    "\n",
    "5. Make well-labeled maps of the **change** in the **annual mean** of these five quantities:\n",
    "\n",
    "    1. Surface temperature\n",
    "    2. ASR (total)\n",
    "    3. ASR (clear sky)\n",
    "    4. ASR (cloudy sky)\n",
    "    3. OLR (total)\n",
    "    4. OLR (clear sky)\n",
    "    5. OLR (cloud sky)\n",
    "    \n",
    "6. Comment on what you found in your maps.\n",
    "\n",
    "    - Which regions warm more than others?\n",
    "    - Are there any discernible spatial patterns in ASR and OLR changes?\n",
    "    - What about the clear and cloudy sky components?\n",
    "    - Comment on anything you find striking, interesting, or unexpected in these results."
   ]
  },
  {
   "cell_type": "markdown",
   "metadata": {},
   "source": [
    "# Homework questions: part B\n",
    "\n",
    "Here we investigate the **transient adjustment to equilibrium**.\n",
    "\n",
    "For this, we will use the file\n",
    "\n",
    "`som_1850_2xCO2.cam.h0.global.nc`\n",
    "\n",
    "This file contains a **monthly timeseries** of the CESM model output from the 2xCO2 model run, which was initialized from the control run. Every variable in this file has *already been averaged globally*. We can use the timeseries to look at the adjustment of the global average temperature and energy budget to the new equilibrium.\n",
    "\n",
    "1. Make a well-labeled graph of the timeseries of global mean surface temperature.\n",
    "2. You will find that there is a well-defined annual cycle in this temperature. Offer a reasonable hypothesis to explain why such a cycle exists in the simulation.\n",
    "3. Implement some kind of running average filter to smooth out the data. (There are many ways to do this... do whatever makes sense to you, but make sure your code is self-explanatory).\n",
    "3. Make another graph of the smooth timeseries. Does it look anything like the exponential relaxation curves we found in the zero-dimensional EBM?\n",
    "4. In another graph, plot **smoothed** verions of the timeseries of ASR and OLR.\n",
    "5. Comment on anything interesting you learned from these figures."
   ]
  },
  {
   "cell_type": "markdown",
   "metadata": {},
   "source": [
    "# Verifying the annual cycle in global mean surface temperature against observations\n",
    "\n",
    "Here we still study the annual cycle in global mean surface temperature and verify it against observations. For observations, we will use the NCEP Reanalysis data.\n",
    "\n",
    "*Reanalysis data is really a blend of observations and output from numerical weather prediction models. It represents our “best guess” at conditions over the whole globe, including regions where observations are very sparse.*\n",
    "\n",
    "The necessary data are all served up over the internet. We will look at monthly climatologies averaged over the 30 year period 1981 - 2010.\n",
    "\n",
    "The data catalog is here, please feel free to browse: http://www.esrl.noaa.gov/psd/thredds/dodsC/Datasets/ncep.reanalysis.derived/catalog.html\n",
    "\n",
    "**Surface air temperature** is contained in a file called `air.2m.mon.1981-2010.ltm.nc`, which is found in the directory `surface_gauss`. \n",
    "\n",
    "Here's a link directly to the catalog page for this data file:\n",
    "http://www.esrl.noaa.gov/psd/thredds/dodsC/Datasets/ncep.reanalysis.derived/surface_gauss/catalog.html?dataset=Datasets/ncep.reanalysis.derived/surface_gauss/air.2m.mon.1981-2010.ltm.nc\n",
    "\n",
    "Now click on the `OPeNDAP` link. A page opens up with lots of information about the contents of the file. The `Data URL` is what we need to read the data into our Python session. For example, this code opens the file and displays a list of the variables it contains:"
   ]
  },
  {
   "cell_type": "code",
   "execution_count": 2,
   "metadata": {},
   "outputs": [
    {
     "name": "stdout",
     "output_type": "stream",
     "text": [
      "<xarray.Dataset>\n",
      "Dimensions:             (lat: 94, lon: 192, nbnds: 2, time: 12)\n",
      "Coordinates:\n",
      "  * lon                 (lon) float32 0.0 1.875 3.75 5.625 7.5 9.375 11.25 ...\n",
      "  * time                (time) float64 -6.571e+05 -6.57e+05 -6.57e+05 ...\n",
      "  * lat                 (lat) float32 88.542 86.6531 84.7532 82.8508 80.9473 ...\n",
      "Dimensions without coordinates: nbnds\n",
      "Data variables:\n",
      "    climatology_bounds  (time, nbnds) float64 ...\n",
      "    air                 (time, lat, lon) float64 ...\n",
      "    valid_yr_count      (time, lat, lon) float64 ...\n",
      "Attributes:\n",
      "    Conventions:                    COARDS\n",
      "    title:                          mean daily NMC reanalysis (1958)\n",
      "    description:                    Data is from NMC initialized reanalysis\\n...\n",
      "    platform:                       Model\n",
      "    not_missing_threshold_percent:  minimum 3% values input to have non-missi...\n",
      "    history:                        Created 2011/07/12 by doMonthLTM\\nConvert...\n",
      "    References:                     http://www.esrl.noaa.gov/psd/data/gridded...\n",
      "    dataset_title:                  NCEP-NCAR Reanalysis 1\n"
     ]
    }
   ],
   "source": [
    "import xarray as xr\n",
    "url = \"http://www.esrl.noaa.gov/psd/thredds/dodsC/Datasets/ncep.reanalysis.derived/surface_gauss/air.2m.mon.1981-2010.ltm.nc\"\n",
    "ncep_air2m = xr.open_dataset(url, decode_times=False)\n",
    "\n",
    "print( ncep_air2m)"
   ]
  },
  {
   "cell_type": "markdown",
   "metadata": {},
   "source": [
    "The temperature data is called `air`. Take a look at the details:"
   ]
  },
  {
   "cell_type": "code",
   "execution_count": 3,
   "metadata": {},
   "outputs": [
    {
     "name": "stdout",
     "output_type": "stream",
     "text": [
      "<xarray.DataArray 'air' (time: 12, lat: 94, lon: 192)>\n",
      "[216576 values with dtype=float64]\n",
      "Coordinates:\n",
      "  * lon      (lon) float32 0.0 1.875 3.75 5.625 7.5 9.375 11.25 13.125 15.0 ...\n",
      "  * time     (time) float64 -6.571e+05 -6.57e+05 -6.57e+05 -6.57e+05 ...\n",
      "  * lat      (lat) float32 88.542 86.6531 84.7532 82.8508 80.9473 79.0435 ...\n",
      "Attributes:\n",
      "    long_name:     Monthly Long Term Mean of Air Temperature\n",
      "    valid_range:   [ 150.  400.]\n",
      "    units:         degK\n",
      "    precision:     2\n",
      "    GRIB_id:       11\n",
      "    GRIB_name:     TMP\n",
      "    var_desc:      Air temperature\n",
      "    level_desc:    2 m\n",
      "    statistic:     Long Term Mean\n",
      "    parent_stat:   Mean\n",
      "    actual_range:  [ 198.33992004  311.89520264]\n",
      "    dataset:       NCEP Reanalysis Derived Products\n",
      "    _ChunkSize:    [  1  94 192]\n"
     ]
    }
   ],
   "source": [
    "print( ncep_air2m.air)"
   ]
  },
  {
   "cell_type": "markdown",
   "metadata": {},
   "source": [
    "Notice that the dimensions are (12, 94, 192) -- meaning 12 months, 94 latitude points, 192 longitude points. Not the same grid as our model output!"
   ]
  },
  {
   "cell_type": "markdown",
   "metadata": {},
   "source": [
    "# Homework questions: part C\n",
    "\n",
    "1. Offer a reasonable hypothesis to explain **why** you found an annual cycle in **global mean surface temperature** in the simulation.\n",
    "2. Verify that such a cycle is also found in the NCEP Reanalysis data. "
   ]
  },
  {
   "cell_type": "markdown",
   "metadata": {},
   "source": [
    "<div class=\"alert alert-success\">\n",
    "[Back to ATM 623 notebook home](../index.ipynb)\n",
    "</div>"
   ]
  },
  {
   "cell_type": "markdown",
   "metadata": {},
   "source": [
    "____________\n",
    "\n",
    "## Credits\n",
    "\n",
    "The author of this notebook is [Brian E. J. Rose](http://www.atmos.albany.edu/facstaff/brose/index.html), University at Albany.\n",
    "\n",
    "It was developed in support of [ATM 623: Climate Modeling](http://www.atmos.albany.edu/facstaff/brose/classes/ATM623_Spring2015/), a graduate-level course in the [Department of Atmospheric and Envionmental Sciences](http://www.albany.edu/atmos/index.php)\n",
    "\n",
    "Development of these notes and the [climlab software](https://github.com/brian-rose/climlab) is partially supported by the National Science Foundation under award AGS-1455071 to Brian Rose. Any opinions, findings, conclusions or recommendations expressed here are mine and do not necessarily reflect the views of the National Science Foundation.\n",
    "____________"
   ]
  },
  {
   "cell_type": "code",
   "execution_count": null,
   "metadata": {
    "collapsed": true
   },
   "outputs": [],
   "source": []
  }
 ],
 "metadata": {
  "anaconda-cloud": {},
  "kernelspec": {
   "display_name": "Python 3",
   "language": "python",
   "name": "python3"
  },
  "language_info": {
   "codemirror_mode": {
    "name": "ipython",
    "version": 3
   },
   "file_extension": ".py",
   "mimetype": "text/x-python",
   "name": "python",
   "nbconvert_exporter": "python",
   "pygments_lexer": "ipython3",
   "version": "3.6.2"
  }
 },
 "nbformat": 4,
 "nbformat_minor": 1
}
