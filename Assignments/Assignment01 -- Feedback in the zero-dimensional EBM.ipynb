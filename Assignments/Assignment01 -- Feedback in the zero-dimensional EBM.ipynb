{
 "cells": [
  {
   "cell_type": "markdown",
   "metadata": {},
   "source": [
    "# [ATM 623: Climate Modeling](../index.ipynb)\n",
    "\n",
    "[Brian E. J. Rose](http://www.atmos.albany.edu/facstaff/brose/index.html), University at Albany\n",
    "\n",
    "## Assignment 1: Feedback in the zero-dimensional EBM"
   ]
  },
  {
   "cell_type": "markdown",
   "metadata": {},
   "source": [
    "- Make a copy or branch of this notebook file so you can add your answer in additional cells.\n",
    "- Complete all the problems below. \n",
    "- For each problem, show your code and calculations.\n",
    "- Feel free to include comments in your code to explain your method as necessary.\n",
    "- Submit your solutions in a single Jupyter notebook that contains your text, your code, and your figures.\n",
    "- *Try to make sure that your notebook runs cleanly from start to finish.*\n",
    "- Save your notebook as `[your last name].ipynb`, e.g. my notebook should be called `Rose.ipynb`.  *This makes it easier for me when I collect all your answers*\n",
    "- Submit your answers by email before class on **Thursday February 9 2017**."
   ]
  },
  {
   "cell_type": "markdown",
   "metadata": {},
   "source": [
    "### Reading assignment\n",
    "\n",
    "Read this review paper:\n",
    "\n",
    "[Roe, Gerard (2009): Feedbacks, Timescales, and Seeing Red. Annu. Rev. Earth Planet. Sci. 37:93–115. doi:10.1146/annurev.earth.061008.134734](http://annualreviews.org/doi/abs/10.1146/annurev.earth.061008.134734)\n",
    "\n",
    "Write at least one paragraph commentary on this article. What did you find most interesting or surprising? You are also welcome to offer criticisms or rebuttals to anything in the article."
   ]
  },
  {
   "cell_type": "markdown",
   "metadata": {},
   "source": [
    "*Your commentary here*"
   ]
  },
  {
   "cell_type": "markdown",
   "metadata": {},
   "source": [
    "### Question 1: Radiative forcing in the zero-dimensional energy balance model"
   ]
  },
  {
   "cell_type": "markdown",
   "metadata": {},
   "source": [
    "In lecture we defined a zero-dimensional energy balance model for the global mean surface temperature $T$ as follows\n",
    "\n",
    "$$C  \\frac{dT}{dt} =(1-α)Q- OLR(T)$$\n",
    "\n",
    "$$OLR= \\sigma (\\beta T)^4$$\n",
    "\n",
    "where we defined these terms:\n",
    "- $C$ is a heat capacity for the atmosphere-ocean column\n",
    "- $\\alpha$ is the global mean planetary albedo\n",
    "- $\\sigma = 5.67 \\times 10^{-8}$ W m$^{-2}$ K$^{-4}$ is the Stefan-Boltzmann constant\n",
    "- $\\beta$ is our parameter for the proportionality between surface temperature and emission temperature\n",
    "- $Q$ is the global-mean incoming solar radiation."
   ]
  },
  {
   "cell_type": "markdown",
   "metadata": {},
   "source": [
    "Following our course notes, set up values for all parameters so that the model reproduces the observed global average surface temperature $T=288$ K at equilibrium given the observed top-of-atmosphere shortwave and longwave radiative fluxes from the Trenberth and Fasullo figure from [Lecture 1](../Lectures/Lecture01 -- Planetary energy budget.ipynb). Suppose (for now) that the planetary albedo $\\alpha$ is fixed at its observed value."
   ]
  },
  {
   "cell_type": "markdown",
   "metadata": {},
   "source": [
    "Doubling atmospheric CO$_2$ makes the atmosphere more opaque to longwave radiation. Suppose that we can represent this in the EBM as a 0.5 % decrease in the value of $\\beta$."
   ]
  },
  {
   "cell_type": "markdown",
   "metadata": {},
   "source": [
    "(a) Calculate the radiative forcing $\\Delta R$ in this model due to a doubling of CO$_2$."
   ]
  },
  {
   "cell_type": "markdown",
   "metadata": {},
   "source": [
    "(b) Calculate the no-feedback equilibrium response $\\Delta T_0$."
   ]
  },
  {
   "cell_type": "markdown",
   "metadata": {},
   "source": [
    "(c) Using numerical timestepping, make a well-labeled graph of the timeseries of temperature $T(t)$ as it adjusts from initial temperature 288 K to its new equilibrium."
   ]
  },
  {
   "cell_type": "code",
   "execution_count": 38,
   "metadata": {},
   "outputs": [
    {
     "name": "stdout",
     "output_type": "stream",
     "text": [
      "3.291931041441643\n",
      "1.0127455613875613\n",
      "289.6275047374125\n",
      "289.0127455613876\n"
     ]
    },
    {
     "data": {
      "text/plain": [
       "Text(0,0.5,'Global mean surface temperature (K)')"
      ]
     },
     "execution_count": 38,
     "metadata": {},
     "output_type": "execute_result"
    },
    {
     "data": {
      "image/png": "[encoded data removed]",
      "text/plain": [
       "<Figure size 432x288 with 1 Axes>"
      ]
     },
     "metadata": {},
     "output_type": "display_data"
    }
   ],
   "source": [
    "import numpy\n",
    "C=4e8\n",
    "Q = 341.3  #  global mean insolation in W/m2\n",
    "alpha = 101.9 / Q    #  observed planetary albedo\n",
    "sigma=5.67e-8 #  Stefan-Boltzmann constant in W/m2/K4\n",
    "Te=((1-alpha)*Q/sigma)**0.25 #  Emission temperature (definition)\n",
    "Tsbar = 288.  # global mean surface temperature in K\n",
    "beta = Te / Tsbar   #  Calculate value of beta from observations\n",
    "\n",
    "#for question (a)\n",
    "beta_2xco2=beta-0.5/100\n",
    "deltaR_2xco2= (sigma*((beta*Te)**4)) - (sigma*((beta_2xco2*Te)**4))\n",
    "print(deltaR_2xco2)\n",
    "\n",
    "#for question (b)\n",
    "lambda_0 = 4 * sigma * beta**4 * Tsbar**3\n",
    "delta_T0 = deltaR_2xco2/lambda_0\n",
    "print(delta_T0)\n",
    "\n",
    "\n",
    "#for question (c)\n",
    "T_2xco2=Tsbar\n",
    "\n",
    "# absorbed solar is a constant in this model\n",
    "ASR = (1-alpha)*Q\n",
    "# but the longwave depends on temperature... define a function for this\n",
    "def OLR(Ts):\n",
    "    return sigma*(beta_2xco2*Ts)**4\n",
    "\\\n",
    "def cal_T_trend(T0,time_step):\n",
    "    return T0 + (ASR - OLR(T0))*time_step/C\n",
    "\n",
    "second_per_year=24*60*60*365\n",
    "t_series = np.arange(0,second_per_year*20,second_per_year/12)\n",
    "time_step = t_series[1]-t_series[0]\n",
    "\n",
    "T_response = np.zeros(len(t_series))\n",
    "\n",
    "T_response[0] = T_2xco2\n",
    "\n",
    "for i in np.arange(1,len(t_series)):\n",
    "    T_response[i] = cal_T_trend(T_response[i-1],time_step)\n",
    "\n",
    "print(T_response[-1])\n",
    "print(T_2xco2+delta_T0)\n",
    "plt.plot(t_series/second_per_year,T_response)\n",
    "plt.xlabel('Years')\n",
    "plt.ylabel('Global mean surface temperature (K)')\n"
   ]
  },
  {
   "cell_type": "markdown",
   "metadata": {},
   "source": [
    "### Question 2: Water vapor feedback in the EBM"
   ]
  },
  {
   "cell_type": "markdown",
   "metadata": {},
   "source": [
    "In reality, the longwave opacity increases further as the planet warms because the atmosphere tends to get moister and water vapor provides an additional greenhouse effect.\n",
    "\n",
    "Let's parameterize the water vapor feedback in the EBM through a formula\n",
    "\n",
    "$$ \\beta(T) = \\beta_0 - \\frac{T - 288 \\text{ K}}{680\\text{ K}} $$\n",
    "\n",
    "where $\\beta_0$ is the value at $T = 288$ K."
   ]
  },
  {
   "cell_type": "markdown",
   "metadata": {},
   "source": [
    "(a) Implement this formula in a Python function.\n",
    "\n",
    "As in Question 1, use numerical timestepping to investigate the adjustment of the EBM to its new equilibrium temperature after doubling CO$_2$. \n",
    "\n",
    "Make a well-labeled graph to compare the timeseries $T(t)$ with and without the water vapor feedback. Comment on the differences in climate sensitivity and in adjustment time."
   ]
  },
  {
   "cell_type": "markdown",
   "metadata": {},
   "source": [
    "(b) Calculate the **system gain** $g$ due to the water vapor feedback and the corresponding **feedback amount** $f_w$."
   ]
  },
  {
   "cell_type": "code",
   "execution_count": 62,
   "metadata": {},
   "outputs": [
    {
     "name": "stdout",
     "output_type": "stream",
     "text": [
      "288.00000000001165\n",
      "[298.         297.88677451 297.77482146 ... 288.         288.\n",
      " 288.        ]\n"
     ]
    },
    {
     "data": {
      "text/plain": [
       "Text(0,0.5,'Global mean surface temperature (K)')"
      ]
     },
     "execution_count": 62,
     "metadata": {},
     "output_type": "execute_result"
    },
    {
     "data": {
      "image/png": "[encoded data removed]",
      "text/plain": [
       "<Figure size 432x288 with 1 Axes>"
      ]
     },
     "metadata": {},
     "output_type": "display_data"
    }
   ],
   "source": [
    "def beta_T(T):\n",
    "    beta_t=beta-(T-288)/680\n",
    "    return beta_t\n",
    "\n",
    "# absorbed solar is a constant in this model\n",
    "ASR = (1-alpha)*Q\n",
    "# but the longwave depends on temperature... define a function for this\n",
    "def OLR(Ts):\n",
    "    return sigma*(beta_T(Ts)*Ts)**4\n",
    "\n",
    "def cal_T_trend(T0,time_step):\n",
    "    return T0 + (ASR - OLR(T0))*time_step/C\n",
    "\n",
    "second_per_year=24*60*60*365\n",
    "t_series = np.arange(0,second_per_year*200,second_per_year/12)\n",
    "time_step = t_series[1]-t_series[0]\n",
    "\n",
    "T_response = np.zeros(len(t_series))\n",
    "\n",
    "T_response[0] = Tsbar+10\n",
    "\n",
    "for i in np.arange(1,len(t_series)):\n",
    "    T_response[i] = cal_T_trend(T_response[i-1],time_step)\n",
    "\n",
    "print(T_response[-1])\n",
    "print(T_response)\n",
    "plt.plot(t_series/second_per_year,T_response)\n",
    "plt.xlabel('Years')\n",
    "plt.ylabel('Global mean surface temperature (K)')\n",
    "\n",
    "\n",
    "    "
   ]
  },
  {
   "cell_type": "markdown",
   "metadata": {},
   "source": [
    "### Question 3: Albedo feedback in the EBM"
   ]
  },
  {
   "cell_type": "markdown",
   "metadata": {},
   "source": [
    "For this exercise, we will introduce a new physical process into our model by letting the planetary albedo depend on temperature. The idea is that a warmer planet has less ice and snow at the surface, and thus a lower planetary albedo.\n",
    "\n",
    "Represent the ice-albedo feedback through the following formula:\n",
    "\n",
    "$$ \\alpha(T) = \\left\\{ \\begin{array}{ccc}\n",
    "\\alpha_i &   & T \\le T_i \\\\\n",
    "\\alpha_o + (\\alpha_i-\\alpha_o) \\frac{(T-T_o)^2}{(T_i-T_o)^2} &   & T_i < T < T_o \\\\\n",
    "\\alpha_o &   & T \\ge T_o \\end{array} \\right\\}$$\n",
    "\n",
    "with the following parameter values:\n",
    "\n",
    "- $\\alpha_o = 0.289$ is the albedo of a warm, ice-free planet\n",
    "- $\\alpha_i = 0.7$ is the albedo of a very cold, completely ice-covered planet\n",
    "- $T_o = 293$ K is the threshold temperature above which our model assumes the planet is ice-free\n",
    "- $T_i = 260$ K is the threshold temperature below which our model assumes the planet is completely ice covered. \n",
    "\n",
    "For intermediate temperature, this formula gives a smooth variation in albedo with global mean temperature. It is tuned to reproduce the observed albedo $\\alpha = 0.299$ for $T = 288$ K. "
   ]
  },
  {
   "cell_type": "markdown",
   "metadata": {},
   "source": [
    "(a):\n",
    "\n",
    "- Define a Python function that implements the above albedo formula. *There is definitely more than one way to do it. It doesn't matter how you do it as long as it works!*\n",
    "-  Use your function to calculate albedos for a wide range on planetary temperature (e.g. from $T=250$ K to $T=300$ K.)\n",
    "- Present your results (albedo as a function of global mean temperature) in a nicely labeled figure."
   ]
  },
  {
   "cell_type": "markdown",
   "metadata": {},
   "source": [
    "(b):\n",
    "\n",
    "Repeat question 2(a), this time including the albedo feedback but ignoring the water vapor feedback (i.e. $\\beta$ does not decrease with temperature). Again, use numerical timestepping to calculate the new equilibrium temperature after the increase in greenhouse gases, including the albedo feedback. Show your code, and make sure that you iterate enough times to ensure your solution is very very close to equilibrium. Make a graph comparing the timeseries in the three model versions used so far."
   ]
  },
  {
   "cell_type": "markdown",
   "metadata": {},
   "source": [
    "(c): \n",
    "\n",
    "Repeat question 2(b), calculating the **system gain** $g$ and **feedback amount** $f_i$ associated with this albedo feedback."
   ]
  },
  {
   "cell_type": "code",
   "execution_count": 53,
   "metadata": {},
   "outputs": [
    {
     "data": {
      "text/plain": [
       "Text(0,0.5,'Global mean surface albedo')"
      ]
     },
     "execution_count": 53,
     "metadata": {},
     "output_type": "execute_result"
    },
    {
     "data": {
      "image/png": "[encoded data removed]",
      "text/plain": [
       "<Figure size 432x288 with 1 Axes>"
      ]
     },
     "metadata": {},
     "output_type": "display_data"
    }
   ],
   "source": [
    "import numpy as np\n",
    "import matplotlib\n",
    "import matplotlib.pyplot as plt\n",
    "%matplotlib inline\n",
    "def alpha_T(T):\n",
    "    alpha_o=0.289\n",
    "    aphpha_i=0.7\n",
    "    To=293\n",
    "    Ti = 260\n",
    "    if (T <= Ti):\n",
    "        alpha_t=aphpha_i\n",
    "    elif (T >= To):\n",
    "        alpha_t=alpha_o\n",
    "    else:\n",
    "        alpha_t=alpha_o+(aphpha_i-alpha_o)*((T-To)**2/(Ti-To)**2)\n",
    "       \n",
    "    return alpha_t\n",
    "\n",
    "T_range=np.arange(250,300+1)\n",
    "alpha_range= np.zeros(len(T_range)) #[] #np.zeros_like(T_range)\n",
    "\n",
    "for i in np.arange(0,len(T_range)):\n",
    "    a=alpha_T(T_range[i])\n",
    "    alpha_range[i] = a\n",
    "\n",
    "plt.plot(T_range, alpha_range) \n",
    "plt.xlabel('Global mean surface temperature (K)')\n",
    "plt.ylabel('Global mean surface albedo')\n",
    "    \n",
    "\n"
   ]
  },
  {
   "cell_type": "code",
   "execution_count": 65,
   "metadata": {},
   "outputs": [
    {
     "name": "stdout",
     "output_type": "stream",
     "text": [
      "[278.         278.03836864 278.07695613 ... 288.02159021 288.02159021\n",
      " 288.02159021]\n"
     ]
    },
    {
     "data": {
      "text/plain": [
       "Text(0,0.5,'Global mean surface temperature (K)')"
      ]
     },
     "execution_count": 65,
     "metadata": {},
     "output_type": "execute_result"
    },
    {
     "data": {
      "image/png": "[encoded data removed]",
      "text/plain": [
       "<Figure size 432x288 with 1 Axes>"
      ]
     },
     "metadata": {},
     "output_type": "display_data"
    }
   ],
   "source": [
    "#for question (b)\n",
    "%matplotlib inline\n",
    "def ASR(Ts):\n",
    "    return (1-alpha_T(Ts))*Q\n",
    "# but the longwave depends on temperature... define a function for this\n",
    "def OLR(Ts):\n",
    "    return sigma*(beta*Ts)**4\n",
    "\n",
    "def cal_T_trend(T0,time_step):\n",
    "    return T0 + (ASR(T0) - OLR(T0))*time_step/C\n",
    "\n",
    "second_per_year=24*60*60*365\n",
    "t_series = np.arange(0,second_per_year*200,second_per_year/12)\n",
    "time_step = t_series[1]-t_series[0]\n",
    "\n",
    "T_response = np.zeros(len(t_series))\n",
    "\n",
    "T_response[0] = Tsbar-10\n",
    "\n",
    "for i in np.arange(1,len(t_series)):\n",
    "    T_response[i] = cal_T_trend(T_response[i-1],time_step)\n",
    "\n",
    "print(T_response)\n",
    "\n",
    "plt.plot(t_series/second_per_year,T_response)\n",
    "plt.xlabel('Years')\n",
    "plt.ylabel('Global mean surface temperature (K)')"
   ]
  },
  {
   "cell_type": "code",
   "execution_count": 56,
   "metadata": {},
   "outputs": [
    {
     "data": {
      "text/plain": [
       "2628000.0"
      ]
     },
     "execution_count": 56,
     "metadata": {},
     "output_type": "execute_result"
    }
   ],
   "source": [
    "alpha_T(288)\n",
    "cal_T_trend(288,time_step)\n",
    "time_step"
   ]
  },
  {
   "cell_type": "markdown",
   "metadata": {},
   "source": [
    "### Question 4: Combining feedbacks\n",
    "\n",
    "Repeat 3(b) and 3(c) but this time including *both* the water vapor and albedo feedback processes in the EBM.\n",
    "\n",
    "Comment on the following:\n",
    "\n",
    "- Are the feedback amounts additive? (in other words, do you find the $f = f_i + f_w$?\n",
    "- Are the system gains additive?\n",
    "- How does the feedback amount change the timescale of adjustment?"
   ]
  },
  {
   "cell_type": "code",
   "execution_count": null,
   "metadata": {},
   "outputs": [],
   "source": []
  },
  {
   "cell_type": "markdown",
   "metadata": {},
   "source": [
    "### Question 5: Uncertainty in feedback and response\n",
    "\n",
    "Inspired by Figure 5 of the paper by Gerard Roe, show that a *small uncertainty in the magnitude of the water vapor feedback* translates to a *larger uncertainty* in climate sensitivity if the model also includes the albedo feedback, even if there is no uncertainty in the albedo feedback itself.\n",
    "\n",
    "Present your arguments and results any way you see fit, but make sure your method and your code are clear."
   ]
  },
  {
   "cell_type": "markdown",
   "metadata": {},
   "source": [
    "<div class=\"alert alert-success\">\n",
    "[Back to ATM 623 notebook home](../index.ipynb)\n",
    "</div>"
   ]
  },
  {
   "cell_type": "markdown",
   "metadata": {},
   "source": [
    "____________\n",
    "\n",
    "## Credits\n",
    "\n",
    "The author of this notebook is [Brian E. J. Rose](http://www.atmos.albany.edu/facstaff/brose/index.html), University at Albany.\n",
    "\n",
    "It was developed in support of [ATM 623: Climate Modeling](http://www.atmos.albany.edu/facstaff/brose/classes/ATM623_Spring2015/), a graduate-level course in the [Department of Atmospheric and Envionmental Sciences](http://www.albany.edu/atmos/index.php)\n",
    "\n",
    "Development of these notes and the [climlab software](https://github.com/brian-rose/climlab) is partially supported by the National Science Foundation under award AGS-1455071 to Brian Rose. Any opinions, findings, conclusions or recommendations expressed here are mine and do not necessarily reflect the views of the National Science Foundation.\n",
    "____________"
   ]
  },
  {
   "cell_type": "code",
   "execution_count": null,
   "metadata": {
    "collapsed": true
   },
   "outputs": [],
   "source": []
  }
 ],
 "metadata": {
  "anaconda-cloud": {},
  "kernelspec": {
   "display_name": "Python 3",
   "language": "python",
   "name": "python3"
  },
  "language_info": {
   "codemirror_mode": {
    "name": "ipython",
    "version": 3
   },
   "file_extension": ".py",
   "mimetype": "text/x-python",
   "name": "python",
   "nbconvert_exporter": "python",
   "pygments_lexer": "ipython3",
   "version": "3.6.5"
  }
 },
 "nbformat": 4,
 "nbformat_minor": 1
}
