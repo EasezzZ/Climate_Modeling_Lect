{
 "cells": [
  {
   "cell_type": "markdown",
   "metadata": {},
   "source": [
    "# [ATM 623: Climate Modeling](../index.ipynb)\n",
    "\n",
    "[Brian E. J. Rose](http://www.atmos.albany.edu/facstaff/brose/index.html), University at Albany\n",
    "\n",
    "# Sensitivity to height-dependent changes in water vapor"
   ]
  },
  {
   "cell_type": "markdown",
   "metadata": {},
   "source": [
    "This assigment is due by email before class on Thursday March 30, 2017."
   ]
  },
  {
   "cell_type": "markdown",
   "metadata": {},
   "source": [
    "### Reading assignment\n",
    "\n",
    "Here is a classic older paper about the climatic effects of small perturbations of tropospheric water vapor:\n",
    "\n",
    "[Shine and Sinha (1991): Sensitivity of the Earth's climate to height-dependent changes in the water vapour mixing ratio. Nature 354:382-384](http://www.nature.com/nature/journal/v354/n6352/abs/354382a0.html)\n",
    "\n",
    "(I will email you a pdf copy since UAlbany does not have electronic access to this article)\n",
    "\n",
    "Read the article, then write at least one paragraph summary and commentary."
   ]
  },
  {
   "cell_type": "markdown",
   "metadata": {},
   "source": [
    "### Computational assignment\n",
    "\n",
    "Your assignment is to make similar calculations using the RRTMG radiative transfer model in `climlab`. Specifically:\n",
    "\n",
    "- Set up a Radiative-Convective model with RRTMG radiation, a critical lapse rate of 6.5 K/km, and the Manabe relative humidity profile.\n",
    "- Tune the model so that, **at radiative-convective equilibrium**, it has both **realistic surface temperature** (near 288 K) and **realistic energy balance** (ASR and OLR both near 239 W/m2). To do this, you will probably need to adjust  surface albedo and introduce some clouds into the single-column model. See the lecture notes for examples. Make sure your methodology is explained clearly.\n",
    "- Now, using your tuned-up model, consider the effects of **small perturbations in absolute specific humidity**:\n",
    "    - Following Shine and Sinha, use a perturbation of 0.001 g/kg (but recall that `climlab` uses units of kg/kg for specific humidity).\n",
    "    - Add the small perturbation to the model specific humidity at one vertical level only.\n",
    "    - Calcuate the instantaneous radiative forcing at the top of atmosphere due to this increase.\n",
    "    - Calculate the equilibrium surface warming associated with this increase.\n",
    "    - Repeat these calculations for every vertical level.\n",
    "    - Make plots like Fig. 3 and Fig. 1 of the paper: radiative forcing and surface warming plotted as functions of the vertical level at which the water vapor is added.\n",
    "- Next, repeat these calculations but instead of using a fixed perturbation, **increase the specific humidity by 10% of its reference value at every level**. Again, plot the radiative forcing and surface warming as functions of the vertical level at which the water vapor is added.\n",
    "- Finally, **if you added some clouds to your tuned-up reference model**, take a look at **changes in the Cloud Radiative Effect** in some of your perturbations. Are they non-zero? Do you think it is meaningful to call these a *cloud feedback*? Why or why not?"
   ]
  },
  {
   "cell_type": "markdown",
   "metadata": {},
   "source": [
    "Comment on what you find, including similarities and differences to the Shine and Sinha results. Offer some thoughts about why your results differ from theirs, if applicable. Do your results support the main conclusions in the paper?"
   ]
  },
  {
   "cell_type": "markdown",
   "metadata": {},
   "source": [
    "<div class=\"alert alert-success\">\n",
    "[Back to ATM 623 notebook home](../index.ipynb)\n",
    "</div>"
   ]
  },
  {
   "cell_type": "markdown",
   "metadata": {},
   "source": [
    "____________\n",
    "\n",
    "## Credits\n",
    "\n",
    "The author of this notebook is [Brian E. J. Rose](http://www.atmos.albany.edu/facstaff/brose/index.html), University at Albany.\n",
    "\n",
    "It was developed in support of [ATM 623: Climate Modeling](http://www.atmos.albany.edu/facstaff/brose/classes/ATM623_Spring2015/), a graduate-level course in the [Department of Atmospheric and Envionmental Sciences](http://www.albany.edu/atmos/index.php)\n",
    "\n",
    "Development of these notes and the [climlab software](https://github.com/brian-rose/climlab) is partially supported by the National Science Foundation under award AGS-1455071 to Brian Rose. Any opinions, findings, conclusions or recommendations expressed here are mine and do not necessarily reflect the views of the National Science Foundation.\n",
    "____________"
   ]
  },
  {
   "cell_type": "code",
   "execution_count": null,
   "metadata": {
    "collapsed": true
   },
   "outputs": [],
   "source": []
  }
 ],
 "metadata": {
  "anaconda-cloud": {},
  "kernelspec": {
   "display_name": "Python [default]",
   "language": "python",
   "name": "python2"
  },
  "language_info": {
   "codemirror_mode": {
    "name": "ipython",
    "version": 2
   },
   "file_extension": ".py",
   "mimetype": "text/x-python",
   "name": "python",
   "nbconvert_exporter": "python",
   "pygments_lexer": "ipython2",
   "version": "2.7.12"
  }
 },
 "nbformat": 4,
 "nbformat_minor": 1
}
