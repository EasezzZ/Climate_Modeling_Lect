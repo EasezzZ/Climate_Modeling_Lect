{
 "cells": [
  {
   "cell_type": "markdown",
   "metadata": {},
   "source": [
    "# [ATM 623: Climate Modeling](../index.ipynb)\n",
    "\n",
    "[Brian E. J. Rose](http://www.atmos.albany.edu/facstaff/brose/index.html), University at Albany\n",
    "\n",
    "# Radiative forcing in a grey radiation atmosphere"
   ]
  },
  {
   "cell_type": "markdown",
   "metadata": {},
   "source": [
    "In this assignment you will extend the 2-layer grey radiation model we analyzed in class to a much larger number of layers, which would be very tedious to try to solve without a computer.\n",
    "\n",
    "For this assignment, **do not try to use symbolic math** with `sympy` to solve the problem analytically! The dimensions of the model will be too big.\n",
    "\n",
    "Instead, solve the problems numerically following the steps below."
   ]
  },
  {
   "cell_type": "markdown",
   "metadata": {},
   "source": [
    "## The $N$-layer grey gas atmosphere\n",
    "\n",
    "- Divide the atmosphere up into $N$ **equal mass** layers.\n",
    "- Assume the following:\n",
    "    - The surface emits as a blackbody, $\\sigma T_s^4$\n",
    "    - Each layer emits $\\epsilon \\sigma T^4$\n",
    "    - Each layer absorbs a fraction $\\epsilon$ of the incident longwave radiation\n",
    "    - In other words, the atmosphere behaves as a grey gas.\n",
    "    - $\\epsilon$ is the same in every layer (absorbers are well-mixed)."
   ]
  },
  {
   "cell_type": "markdown",
   "metadata": {},
   "source": [
    "## Your assigment\n",
    "\n",
    "1. **Write Python code to calculate the OLR** given $\\epsilon$, $T_s$, and the temperature in each atmospheric layer. Your code should:\n",
    "    - be general enough to work for arbitrary $N$\n",
    "    - calculate the contributions to OLR from the surface and each $N$ atmospheric layer\n",
    "    \n",
    "2. Check your code: set $T = T_s$ in every layer. **Verify that your code produces $OLR = \\sigma T_s^4$**.\n",
    "3. Use **observed global, annual mean temperatures** to tune your model:\n",
    "    - Use the NCEP reanalysis long-term-mean air temperature data, following the previous notes and homework. \n",
    "    - Use a sufficient number of layers in your model to get good resolution of the vertical structure. Try e.g. $N=30$.\n",
    "    - Use the data to set the temperatures in your model. You may need to do some interpolation between pressure levels.\n",
    "4. **Determine the value of your parameter $\\epsilon$ ** for which your code produces $OLR = 239$ W m$^{-2}$ given the observed temperatures.\n",
    "5. Using your tuned value of $\\epsilon$ and the observed temperatures, **calculate and plot the contributions from each layer (and the surface) to the OLR.**\n",
    "6. Now use your code to calculate the **radiative forcing** associated with a **1% increase in $\\epsilon$ **.\n",
    "7. Plot the **changes** in the contributions to OLR from each layer (and the surface).\n",
    "8. Discuss any interesting features of your answers.\n",
    "9. As usual, write up your answers (including text, code and figures) in a new IPython notebook that runs cleanly from start to finish. Save your notebook as `[your last name].ipynb`.\n",
    "10. Submit your answers by email before class on **Thursday March 2**."
   ]
  },
  {
   "cell_type": "markdown",
   "metadata": {},
   "source": [
    "<div class=\"alert alert-success\">\n",
    "[Back to ATM 623 notebook home](../index.ipynb)\n",
    "</div>"
   ]
  },
  {
   "cell_type": "markdown",
   "metadata": {},
   "source": [
    "____________\n",
    "\n",
    "## Credits\n",
    "\n",
    "The author of this notebook is [Brian E. J. Rose](http://www.atmos.albany.edu/facstaff/brose/index.html), University at Albany.\n",
    "\n",
    "It was developed in support of [ATM 623: Climate Modeling](http://www.atmos.albany.edu/facstaff/brose/classes/ATM623_Spring2015/), a graduate-level course in the [Department of Atmospheric and Envionmental Sciences](http://www.albany.edu/atmos/index.php)\n",
    "\n",
    "Development of these notes and the [climlab software](https://github.com/brian-rose/climlab) is partially supported by the National Science Foundation under award AGS-1455071 to Brian Rose. Any opinions, findings, conclusions or recommendations expressed here are mine and do not necessarily reflect the views of the National Science Foundation.\n",
    "____________"
   ]
  },
  {
   "cell_type": "code",
   "execution_count": null,
   "metadata": {
    "collapsed": true
   },
   "outputs": [],
   "source": []
  }
 ],
 "metadata": {
  "anaconda-cloud": {},
  "kernelspec": {
   "display_name": "Python [default]",
   "language": "python",
   "name": "python2"
  },
  "language_info": {
   "codemirror_mode": {
    "name": "ipython",
    "version": 2
   },
   "file_extension": ".py",
   "mimetype": "text/x-python",
   "name": "python",
   "nbconvert_exporter": "python",
   "pygments_lexer": "ipython2",
   "version": "2.7.12"
  }
 },
 "nbformat": 4,
 "nbformat_minor": 1
}
