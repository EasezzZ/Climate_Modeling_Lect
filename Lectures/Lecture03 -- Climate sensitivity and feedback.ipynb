{
 "cells": [
  {
   "cell_type": "markdown",
   "metadata": {
    "slideshow": {
     "slide_type": "slide"
    }
   },
   "source": [
    "# [ATM 623: Climate Modeling](../index.ipynb)\n",
    "\n",
    "[Brian E. J. Rose](http://www.atmos.albany.edu/facstaff/brose/index.html), University at Albany\n",
    "\n",
    "# Lecture 3: Climate sensitivity and feedback"
   ]
  },
  {
   "cell_type": "markdown",
   "metadata": {
    "slideshow": {
     "slide_type": "skip"
    }
   },
   "source": [
    "### About these notes:\n",
    "\n",
    "This document uses the interactive [`Jupyter notebook`](https://jupyter.org) format. The notes can be accessed in several different ways:\n",
    "\n",
    "- The interactive notebooks are hosted on `github` at https://github.com/brian-rose/ClimateModeling_courseware\n",
    "- The latest versions can be viewed as static web pages [rendered on nbviewer](http://nbviewer.ipython.org/github/brian-rose/ClimateModeling_courseware/blob/master/index.ipynb)\n",
    "- A complete snapshot of the notes as of May 2017 (end of spring semester) are [available on Brian's website](http://www.atmos.albany.edu/facstaff/brose/classes/ATM623_Spring2017/Notes/index.html).\n",
    "\n",
    "[Also here is a legacy version from 2015](http://www.atmos.albany.edu/facstaff/brose/classes/ATM623_Spring2015/Notes/index.html).\n",
    "\n",
    "Many of these notes make use of the `climlab` package, available at https://github.com/brian-rose/climlab"
   ]
  },
  {
   "cell_type": "code",
   "execution_count": 1,
   "metadata": {
    "collapsed": true
   },
   "outputs": [],
   "source": [
    "#  Ensure compatibility with Python 2 and 3\n",
    "from __future__ import print_function, division"
   ]
  },
  {
   "cell_type": "markdown",
   "metadata": {
    "slideshow": {
     "slide_type": "slide"
    }
   },
   "source": [
    "## Contents\n",
    "\n",
    "1. [Radiative forcing](#section1)\n",
    "2. [Climate sensitivity (without feedback)](#section2)\n",
    "3. [The feedback concept](#section3)\n",
    "4. [Climate feedback: some definitions](#section4)\n",
    "5. [Climate sensitivity with feedback](#section5)\n",
    "6. [Contribution of individual feedback processes to Equilibrium Climate Sensitivity](#section6)\n",
    "7. [Feedbacks diagnosed from complex climate models](#section7)\n",
    "8. [Feedback analysis of the zero-dimensional model with variable albedo](#section8)"
   ]
  },
  {
   "cell_type": "markdown",
   "metadata": {
    "slideshow": {
     "slide_type": "slide"
    }
   },
   "source": [
    "____________\n",
    "<a id='section1'></a>\n",
    "\n",
    "## 1. Radiative forcing\n",
    "____________\n",
    "\n",
    "Let’s say we instantaneously double atmospheric CO$_2$. What happens?\n",
    "\n",
    "- The atmosphere is less efficient at radiating energy away to space.\n",
    "- OLR will decrease\n",
    "- The climate system will begin gaining energy.\n",
    "\n"
   ]
  },
  {
   "cell_type": "markdown",
   "metadata": {
    "slideshow": {
     "slide_type": "slide"
    }
   },
   "source": [
    "We will call this abrupt decrease in OLR the **radiative forcing**, a positive number in W m$^{-2}$\n",
    "\n",
    "$$ \\Delta R = OLR_i - OLR_{2xCO2} $$\n",
    "\n",
    "$\\Delta R$ is a measure of the rate at which energy begins to accumulate in the climate system after an abrupt increase in greenhouse gases, but *before any change in climate* (i.e. temperature).\n",
    "\n",
    "What happens next?"
   ]
  },
  {
   "cell_type": "markdown",
   "metadata": {
    "slideshow": {
     "slide_type": "slide"
    }
   },
   "source": [
    "____________\n",
    "<a id='section2'></a>\n",
    "\n",
    "## 2. Climate sensitivity (without feedback)\n",
    "____________\n",
    "\n",
    "Let’s use our simple zero-dimensional EBM to calculate the resulting change in **equilibrium temperature**. \n",
    "\n",
    "How much warming will we get once the climate system has adjusted to the radiative forcing?"
   ]
  },
  {
   "cell_type": "markdown",
   "metadata": {
    "slideshow": {
     "slide_type": "slide"
    }
   },
   "source": [
    "First note that at equilibrium we must have\n",
    "\n",
    "$$ASR = OLR$$\n",
    "\n",
    "and in our very simple model, there is no change in ASR, so \n",
    "$$ ASR_f = ASR_f $$\n",
    "(with  standing for final.)\n",
    "\n",
    "From this we infer that\n",
    "$$ OLR_f = OLR_i $$\n",
    "\n",
    "The new equilibrium will have **exactly the same OLR** as the old equilibrium, but a **different surface temperature**.\n",
    "\n",
    "The climate system must warm up by a certain amount to get the OLR back up to its original value! The question is, **how much warming is necessary**? In other words, **what is the new equilibrium temperature**?\n"
   ]
  },
  {
   "cell_type": "markdown",
   "metadata": {
    "slideshow": {
     "slide_type": "slide"
    }
   },
   "source": [
    "### Equilibrium Climate Sensitivity (ECS)\n",
    "\n",
    "We now define the Equilibrium Climate Sensitivity (denoted ECS or $\\Delta T_{2xCO2}$):\n",
    "\n",
    "*The global mean surface warming necessary to balance the planetary energy budget after a doubling of atmospheric CO$_2$.*\n",
    "\n",
    "The temperature must increase so that the increase in OLR is exactly equal to the radiative forcing:\n",
    "\n",
    "$$ OLR_f - OLR_{2xCO2} = \\Delta R $$"
   ]
  },
  {
   "cell_type": "markdown",
   "metadata": {
    "slideshow": {
     "slide_type": "slide"
    }
   },
   "source": [
    "From last lecture, we have linearized our model for OLR with a slope $\\lambda_0 = 3.3$ W m$^{-2}$ K$^{-1}$. This means that a global warming of 1 degree causes a 3.3 W m$^{-2}$ increase in the OLR. So we can write:\n",
    "\n",
    "$$OLR_f \\approx OLR_{2xCO2} + \\lambda_0 \\Delta T_0 $$\n",
    "\n",
    "where we are writing the change in temperature as\n",
    "\n",
    "$$ \\Delta T_0 = T_f - T_i $$\n",
    "\n",
    "(and the subscript zero will remind us that this is the response in the simplest model, in the absence of any feedbacks)"
   ]
  },
  {
   "cell_type": "markdown",
   "metadata": {
    "slideshow": {
     "slide_type": "slide"
    }
   },
   "source": [
    "To achieve energy balance, the planet must warm up by\n",
    "\n",
    "$$ \\Delta T_0 = \\frac{\\Delta R}{\\lambda_0} $$\n",
    "\n",
    "As we will see later, the actual radiative forcing due CO$_2$ doubling is about 4 W m$^{-2}$. \n",
    "\n",
    "So our model without feedback gives a prediction for climate sensitivity:"
   ]
  },
  {
   "cell_type": "code",
   "execution_count": 2,
   "metadata": {
    "collapsed": true,
    "slideshow": {
     "slide_type": "fragment"
    }
   },
   "outputs": [],
   "source": [
    "#  Repeating code from Lecture 2\n",
    "sigma = 5.67E-8  #  Stefan-Boltzmann constant in W/m2/K4\n",
    "Q = 341.3  #  global mean insolation in W/m2\n",
    "alpha = 101.9 / Q    #  observed planetary albedo\n",
    "Te = ((1-alpha)*Q/sigma)**0.25  #  Emission temperature (definition)\n",
    "Tsbar = 288.  # global mean surface temperature in K\n",
    "beta = Te / Tsbar   #  Calculate value of beta from observations\n",
    "lambda_0 = 4 * sigma * beta**4 * Tsbar**3"
   ]
  },
  {
   "cell_type": "code",
   "execution_count": 3,
   "metadata": {
    "slideshow": {
     "slide_type": "fragment"
    }
   },
   "outputs": [
    {
     "name": "stdout",
     "output_type": "stream",
     "text": [
      "The Equilibrium Climate Sensitivity in the absence of feedback is 1.2 K.\n"
     ]
    }
   ],
   "source": [
    "DeltaR = 4.  # Radiative forcing in W/m2\n",
    "DeltaT0 = DeltaR / lambda_0\n",
    "print( 'The Equilibrium Climate Sensitivity in the absence of feedback is {:.1f} K.'.format(DeltaT0))"
   ]
  },
  {
   "cell_type": "markdown",
   "metadata": {
    "slideshow": {
     "slide_type": "slide"
    }
   },
   "source": [
    "Question: what are the current best estimates for the actual warming (including all feedbacks) in response to a doubling of CO$_2$?\n",
    "\n",
    "We’ll now look at the feedback concept. Climate feedbacks tend to amplify the response to increased CO$_2$. But $\\Delta T_0$ is a meaningful climate sensitivity in the absence of feedback.\n",
    "\n",
    "$\\Delta T_0 = 1.2$ K is the ** warming that we would have if the Earth radiated the excess energy away to space as a blackbody**, and with no change in the planetary albedo."
   ]
  },
  {
   "cell_type": "markdown",
   "metadata": {
    "slideshow": {
     "slide_type": "slide"
    }
   },
   "source": [
    "____________\n",
    "<a id='section3'></a>\n",
    "\n",
    "## 3. The feedback concept\n",
    "____________\n",
    "\n",
    "A concept borrowed from electrical engineering. You have all heard or used the term before, but we’ll try take a more precise approach today.\n",
    "\n",
    "A feedback occurs when a portion of the output from the action of a system is added to the input and subsequently alters the output:"
   ]
  },
  {
   "cell_type": "code",
   "execution_count": 4,
   "metadata": {
    "slideshow": {
     "slide_type": "fragment"
    }
   },
   "outputs": [
    {
     "data": {
      "image/png": "[encoded data removed]",
      "text/plain": [
       "<IPython.core.display.Image object>"
      ]
     },
     "execution_count": 4,
     "metadata": {
      "image/png": {
       "width": 500
      }
     },
     "output_type": "execute_result"
    }
   ],
   "source": [
    "from IPython.display import Image\n",
    "Image(filename='../images/feedback_sketch.png', width=500)"
   ]
  },
  {
   "cell_type": "markdown",
   "metadata": {
    "slideshow": {
     "slide_type": "slide"
    }
   },
   "source": [
    "The result of a loop system can either be **amplification** or **dampening** of the process, depending on the sign of the gain in the loop, which we will denote $f$.\n",
    "\n",
    "We will call amplifying feedbacks **positive** ($f>0$) and damping feedbacks **negative** ($f<0$).\n",
    "\n",
    "We can think of the “process” here as the entire climate system, which contains many examples of both positive and negative feedback."
   ]
  },
  {
   "cell_type": "markdown",
   "metadata": {
    "slideshow": {
     "slide_type": "slide"
    }
   },
   "source": [
    "### Example: the water vapor feedback\n",
    "\n",
    "The capacity of the atmosphere to hold water vapor (saturation specific humidity) increases exponentially with temperature. Warming is thus accompanied by moistening (more water vapor), which leads to more warming due to the enhanced water vapor greenhouse effect.\n",
    "\n",
    "**Positive or negative feedback?**"
   ]
  },
  {
   "cell_type": "markdown",
   "metadata": {
    "slideshow": {
     "slide_type": "slide"
    }
   },
   "source": [
    "### Example: the ice-albedo feedback\n",
    "\n",
    "Colder temperatures lead to expansion of the areas covered by ice and snow, which tend to be more reflective than water and vegetation. This causes a reduction in the absorbed solar radiation, which leads to more cooling. \n",
    "\n",
    "**Positive or negative feedback?**\n",
    "\n",
    "*Make sure it’s clear that the sign of the feedback is the same whether we are talking about warming or cooling.*"
   ]
  },
  {
   "cell_type": "markdown",
   "metadata": {
    "slideshow": {
     "slide_type": "slide"
    }
   },
   "source": [
    "_____________\n",
    "<a id='section4'></a>\n",
    "## 4. Climate feedback: some definitions\n",
    "____________\n",
    "\n",
    "We start with an initial radiative forcing , and get a response\n",
    "$$ \\Delta T_0 = \\frac{\\Delta R}{\\lambda_0} $$\n"
   ]
  },
  {
   "cell_type": "markdown",
   "metadata": {
    "slideshow": {
     "slide_type": "slide"
    }
   },
   "source": [
    "Now consider what happens in the presence of a feedback process. For a concrete example, let’s take the **water vapor feedback**. For every degree of warming, there is an additional increase in the greenhouse effect, and thus additional energy added to the system.\n",
    "\n",
    "Let’s denote this extra energy as \n",
    "$$ f \\lambda_0 \\Delta T_0 $$\n",
    "\n",
    "where $f$ is the **feedback amount**, a number that represents what fraction of the output gets added back to the input. $f$ must be between $-\\infty$ and +1. \n",
    "\n",
    "For the example of the water vapor feedback, $f$ is positive (between 0 and +1) – the process adds extra energy to the original radiative forcing.\n"
   ]
  },
  {
   "cell_type": "markdown",
   "metadata": {
    "slideshow": {
     "slide_type": "slide"
    }
   },
   "source": [
    "The amount of energy in the full \"input\" is now\n",
    "$$ \\Delta R + f \\lambda_0 \\Delta T_0 $$\n",
    "or\n",
    "$$ (1+f) \\lambda_0 \\Delta T_0 $$"
   ]
  },
  {
   "cell_type": "markdown",
   "metadata": {
    "slideshow": {
     "slide_type": "fragment"
    }
   },
   "source": [
    "But now we need to consider the next loop. A fraction $f$ of the additional energy is also added to the input, giving us\n",
    "$$ (1+f+f^2) \\lambda_0 \\Delta T_0 $$"
   ]
  },
  {
   "cell_type": "markdown",
   "metadata": {
    "slideshow": {
     "slide_type": "fragment"
    }
   },
   "source": [
    "and we can go round and round, leading to the infinite series\n",
    "$$ (1+f+f^2+f^3+ ...) \\lambda_0 \\Delta T_0 = \\lambda_0 \\Delta T_0 \\sum_{n=0}^{\\infty} f^n $$\n",
    "\n",
    "Question: what happens if $f=1$?"
   ]
  },
  {
   "cell_type": "markdown",
   "metadata": {
    "slideshow": {
     "slide_type": "slide"
    }
   },
   "source": [
    "It so happens that this infinite series has an exact solution\n",
    "\n",
    "$$ \\sum_{n=0}^{\\infty} f^n = \\frac{1}{1-f} $$"
   ]
  },
  {
   "cell_type": "markdown",
   "metadata": {
    "slideshow": {
     "slide_type": "fragment"
    }
   },
   "source": [
    "So the full response including all the effects of the feedback is actually\n",
    "\n",
    "$$ \\Delta T = \\frac{1}{1-f} \\Delta T_0 $$"
   ]
  },
  {
   "cell_type": "markdown",
   "metadata": {
    "slideshow": {
     "slide_type": "slide"
    }
   },
   "source": [
    "This is also sometimes written as \n",
    "$$ \\Delta T = g \\Delta T_0 $$\n",
    "\n",
    "where \n",
    "\n",
    "$$ g = \\frac{1}{1-f} = \\frac{\\Delta T}{\\Delta T_0} $$\n",
    "\n",
    "is called the **system gain** -- the ratio of the actual warming (including all feedbacks) to the warming we would have in the absence of feedbacks."
   ]
  },
  {
   "cell_type": "markdown",
   "metadata": {
    "slideshow": {
     "slide_type": "fragment"
    }
   },
   "source": [
    "So if the overall feedback is positive, then $f>0$ and $g>1$.\n",
    "\n",
    "And if the overall feedback is negative?"
   ]
  },
  {
   "cell_type": "markdown",
   "metadata": {
    "slideshow": {
     "slide_type": "slide"
    }
   },
   "source": [
    "_____________\n",
    "<a id='section5'></a>\n",
    "## 5. Climate sensitivity with feedback\n",
    "____________\n",
    "\n",
    "ECS is an important number. A major goal of climate modeling is to provide better estimates of ECS and its uncertainty.\n",
    "\n",
    "Latest IPCC report AR5 gives a likely range of 1.5 to 4.5 K. (There is lots of uncertainty in these numbers – we will definitely come back to this question)\n",
    "\n",
    "So our simple estimate of the no-feedback change $\\Delta T_0$ is apparently underestimating climate sensitivity. \n",
    "\n",
    "Saying the same thing another way: the overall net climate feedback is positive, amplifying the response, and the system gain $g>1$.\n"
   ]
  },
  {
   "cell_type": "markdown",
   "metadata": {
    "slideshow": {
     "slide_type": "slide"
    }
   },
   "source": [
    "Let’s assume that the true value is $\\Delta T_{2xCO2} = 3$ K (middle of the range). This implies that the gain is\n",
    "\n",
    "$$ g = \\frac{\\Delta T_{2xCO2}}{\\Delta T_0} = \\frac{3}{1.2} = 2.5 $$\n",
    "\n",
    "The actual warming is substantially amplified!\n",
    "\n",
    "There are lots of reasons for this, but the water vapor feedback is probably the most important."
   ]
  },
  {
   "cell_type": "markdown",
   "metadata": {
    "slideshow": {
     "slide_type": "slide"
    }
   },
   "source": [
    "Question:  if $g=2.5$, what is the feedback amount $f$?\n",
    "\n",
    "$$ g = \\frac{1}{1-f} $$\n",
    "\n",
    "or rearranging,\n",
    "\n",
    "$$ f = 1 - 1/g = 0.6 $$\n",
    "\n",
    "The overall feedback (due to water vapor, clouds, etc.) is **positive**."
   ]
  },
  {
   "cell_type": "markdown",
   "metadata": {
    "slideshow": {
     "slide_type": "slide"
    }
   },
   "source": [
    "_____________\n",
    "<a id='section6'></a>\n",
    "## 6. Contribution of individual feedback processes to Equilibrium Climate Sensitivity\n",
    "____________\n",
    "\n",
    "\n",
    "Now what if we have several individual feedback processes occurring simultaneously?\n",
    "\n",
    "We can think of individual feedback amounts $f_1, f_2, f_3, ...$, with each  representing a physically distinct mechanism, e.g. water vapor, surface snow and ice, cloud changes, etc.\n"
   ]
  },
  {
   "cell_type": "markdown",
   "metadata": {
    "slideshow": {
     "slide_type": "slide"
    }
   },
   "source": [
    "Each individual process takes a fraction $f_i$ of the output and adds to the input. So the feedback amounts are additive,\n",
    "\n",
    "$$ f = f_1 + f_2 + f_3 + ... = \\sum_{i=0}^N f_i $$"
   ]
  },
  {
   "cell_type": "markdown",
   "metadata": {
    "slideshow": {
     "slide_type": "fragment"
    }
   },
   "source": [
    "This gives us a way to compare the importance of individual feedback processes!\n",
    "\n",
    "The climate sensitivity is now\n",
    "\n",
    "$$ \\Delta T_{2xCO2} = \\frac{1}{1- \\sum_{i=0}^N f_i } \\Delta T_0 $$\n",
    "\n",
    "The climate sensitivity is thus **increased by positive feedback processes**, and **decreased by negative feedback processes**."
   ]
  },
  {
   "cell_type": "markdown",
   "metadata": {
    "slideshow": {
     "slide_type": "slide"
    }
   },
   "source": [
    "### Climate feedback parameters\n",
    "\n",
    "We can also write this in terms of the original radiative forcing as\t\n",
    "\n",
    "$$ \\Delta T_{2xCO2} = \\frac{\\Delta R}{\\lambda_0 - \\sum_{i=1}^{N} \\lambda_i} $$\n",
    "\n",
    "where\n",
    "\n",
    "$$ \\lambda_i = \\lambda_0 f_i $$\n",
    "\n",
    "known as **climate feedback parameters**, in units of W m$^{-2}$ K$^{-1}$. \n",
    "\n",
    "With this choice of sign conventions, $\\lambda_i > 0$ for a positive feedback process."
   ]
  },
  {
   "cell_type": "markdown",
   "metadata": {
    "slideshow": {
     "slide_type": "slide"
    }
   },
   "source": [
    "Individual feedback parameters $\\lambda_i$ are then additive, and can be compared to the no-feedback parameter $\\lambda_0$.\n",
    "\n",
    "Based on our earlier numbers, the net feedback necessary to get a climate sensitivity of 3 K is\n",
    "\n",
    "$$ \\sum_{i=1}^N \\lambda_i = \\lambda_0 \\sum_{i=1}^N f_i = (3.3 \\text{ W m}^{-2} \\text{ K}^{-1}) (0.6) = 2 \\text{ W m}^{-2} \\text{ K}^{-1} $$\n",
    "\n",
    "We might decompose this net climate feedback into, for example\n",
    "\n",
    "- longwave and shortwave processes\n",
    "- cloud and non-cloud processes\n",
    "\n",
    "These individual feedback processes may be positive or negative. This is very powerful, because we can **measure the relative importance of different feedback processes** simply by comparing their $\\lambda_i$ values."
   ]
  },
  {
   "cell_type": "markdown",
   "metadata": {
    "slideshow": {
     "slide_type": "slide"
    }
   },
   "source": [
    "### Every climate model has a Planck feedback\n",
    "\n",
    "The \"Planck feedback\" represented by our reference parameter $\\lambda_0$ is not really a feedback at all.\n",
    "\n",
    "It is the most basic and universal climate process, and is present in every climate model. It is simply an expression of the fact that a warm planet radiates more to space than a cold planet.\n",
    "\n",
    "As we will see, our estimate of $\\lambda_0 = -3.3 ~\\text{W} ~\\text{m}^{-2} ~\\text{K}^{-1} $ is essentially the same as the Planck feedback diagnosed from complex GCMs. Unlike our simple zero-dimensional EBM, however, most other climate models (and the real climate system) have other radiative feedback processes, such that \n",
    "\n",
    "$$\\lambda = \\lambda_0 - \\sum_{i=1}^{N} \\lambda_i \\ne \\lambda_0 $$\n"
   ]
  },
  {
   "cell_type": "markdown",
   "metadata": {
    "slideshow": {
     "slide_type": "slide"
    }
   },
   "source": [
    "____________\n",
    "<a id='section7'></a>\n",
    "## 7. Feedbacks diagnosed from complex climate models\n",
    "____________\n",
    "\n",
    "### Data from the IPCC AR5\n",
    "\n",
    "This figure is reproduced from the recent IPCC AR5 report. It shows the feedbacks diagnosed from the various models that contributed to the assessment.\n",
    "\n",
    "(Later in the term we will discuss how the feedback diagnosis is actually done)\n",
    "\n",
    "See below for complete citation information."
   ]
  },
  {
   "cell_type": "code",
   "execution_count": 5,
   "metadata": {
    "slideshow": {
     "slide_type": "slide"
    }
   },
   "outputs": [
    {
     "data": {
      "text/html": [
       "<img src=\"http://www.climatechange2013.org/images/figures/WGI_AR5_Fig9-43.jpg\" width=\"800\"/>"
      ],
      "text/plain": [
       "<IPython.core.display.Image object>"
      ]
     },
     "execution_count": 5,
     "metadata": {},
     "output_type": "execute_result"
    }
   ],
   "source": [
    "feedback_ar5 = 'http://www.climatechange2013.org/images/figures/WGI_AR5_Fig9-43.jpg'\n",
    "Image(url=feedback_ar5, width=800)"
   ]
  },
  {
   "cell_type": "markdown",
   "metadata": {},
   "source": [
    "**Figure 9.43** | (a) Strengths of individual feedbacks for CMIP3 and CMIP5 models (left and right columns of symbols) for Planck (P), water vapour (WV), clouds (C), albedo (A), lapse rate (LR), combination of water vapour and lapse rate (WV+LR) and sum of all feedbacks except Planck (ALL), from Soden and Held (2006) and Vial et al. (2013), following Soden et al. (2008). CMIP5 feedbacks are derived from CMIP5 simulations for abrupt fourfold increases in CO2 concentrations (4 × CO2). (b) ECS obtained using regression techniques by Andrews et al. (2012) against ECS estimated from the ratio of CO2 ERF to the sum of all feedbacks. The CO2 ERF is one-half the 4 × CO2 forcings from Andrews et al. (2012), and the total feedback (ALL + Planck) is from Vial et al. (2013).\n",
    "\n",
    "*Figure caption reproduced from the AR5 WG1 report*"
   ]
  },
  {
   "cell_type": "markdown",
   "metadata": {
    "slideshow": {
     "slide_type": "slide"
    }
   },
   "source": [
    "Legend:\n",
    "\n",
    "- P: Planck feedback\n",
    "- WV: Water vapor feedback\n",
    "- LR: Lapse rate feedback\n",
    "- WV+LR: combined water vapor plus lapse rate feedback\n",
    "- C: cloud feedback\n",
    "- A: surface albedo feedback\n",
    "- ALL: sum of all feedback except Plank, i.e. ALL = WV+LR+C+A"
   ]
  },
  {
   "cell_type": "markdown",
   "metadata": {
    "slideshow": {
     "slide_type": "slide"
    }
   },
   "source": [
    "Things to note:\n",
    "\n",
    "- The models all agree strongly on the Planck feedback. \n",
    "- The Planck feedback is about $\\lambda_0 = -3.3 ~\\text{W} ~\\text{m}^{-2} ~\\text{K}^{-1} $ just like our above estimate (but with opposite sign convention -- watch carefully for that in the literature)\n",
    "- The water vapor feedback is strongly positive in every model.\n",
    "- The lapse rate feedback is something we will study later. It is slightly negative.\n",
    "- For reasons we will discuss later, the best way to measure the water vapor feedback is to combine it with lapse rate feedback.\n",
    "- Models agree strongly on the combined water vapor plus lapse rate feedback."
   ]
  },
  {
   "cell_type": "markdown",
   "metadata": {
    "slideshow": {
     "slide_type": "slide"
    }
   },
   "source": [
    "- The albedo feedback is slightly positive but rather small globally.\n",
    "- By far the largest spread across the models occurs in the cloud feedback.\n",
    "- Global cloud feedback ranges from slighly negative to strongly positive across the models.\n",
    "- Most of the spread in the total feedback is due to the spread in the cloud feedback.\n",
    "- Therefore, most of the spread in the ECS across the models is due to the spread in the cloud feedback.\n",
    "- Our estimate of $+2.0 ~\\text{W} ~\\text{m}^{-2} ~\\text{K}^{-1}$ for all the missing processes is consistent with the GCM ensemble."
   ]
  },
  {
   "cell_type": "markdown",
   "metadata": {
    "slideshow": {
     "slide_type": "skip"
    }
   },
   "source": [
    "### Citation\n",
    "\n",
    "This is Figure 9.43 from Chapter 9 of the IPCC AR5 Working Group 1 report.\n",
    "\n",
    "The report and images can be found online at\n",
    "<http://www.climatechange2013.org/report/full-report/>\n",
    "\n",
    "The full citation is:\n",
    "\n",
    "Flato, G., J. Marotzke, B. Abiodun, P. Braconnot, S.C. Chou, W. Collins, P. Cox, F. Driouech, S. Emori, V. Eyring, C. Forest, P. Gleckler, E. Guilyardi, C. Jakob, V. Kattsov, C. Reason and M. Rummukainen, 2013: Evaluation of Climate Models. In: Climate Change 2013: The Physical Science Basis. Contribution of Working Group I to the Fifth Assessment Report of the Intergovernmental Panel on Climate Change [Stocker, T.F., D. Qin, G.-K. Plattner, M. Tignor, S.K. Allen, J. Boschung, A. Nauels, Y. Xia, V. Bex and P.M. Midgley (eds.)]. Cambridge University Press, Cambridge, United Kingdom and New York, NY, USA, pp. 741–866, doi:10.1017/CBO9781107415324.020"
   ]
  },
  {
   "cell_type": "markdown",
   "metadata": {
    "slideshow": {
     "slide_type": "slide"
    }
   },
   "source": [
    "____________\n",
    "<a id='section8'></a>\n",
    "## 8. The zero-dimensional model with variable albedo\n",
    "____________\n"
   ]
  },
  {
   "cell_type": "markdown",
   "metadata": {
    "slideshow": {
     "slide_type": "slide"
    }
   },
   "source": [
    "### The model\n",
    "\n",
    "In homework you will be asked to include a new process in the zero-dimensional EBM: a temperature-dependent albedo.\n",
    "\n",
    "We use the following formula:\n",
    "\n",
    "$$ \\alpha(T) = \\left\\{ \\begin{array}{ccc}\n",
    "\\alpha_i &   & T \\le T_i \\\\\n",
    "\\alpha_o + (\\alpha_i-\\alpha_o) \\frac{(T-T_o)^2}{(T_i-T_o)^2} &   & T_i < T < T_o \\\\\n",
    "\\alpha_o &   & T \\ge T_o \\end{array} \\right\\}$$"
   ]
  },
  {
   "cell_type": "markdown",
   "metadata": {
    "slideshow": {
     "slide_type": "slide"
    }
   },
   "source": [
    "with parameter values:\n",
    "\n",
    "- $\\alpha_o = 0.289$ is the albedo of a warm, ice-free planet\n",
    "- $\\alpha_i = 0.7$ is the albedo of a very cold, completely ice-covered planet\n",
    "- $T_o = 293$ K is the threshold temperature above which our model assumes the planet is ice-free\n",
    "- $T_i = 260$ K is the threshold temperature below which our model assumes the planet is completely ice covered. \n",
    "\n",
    "For intermediate temperature, this formula gives a smooth variation in albedo with global mean temperature. It is tuned to reproduce the observed albedo $\\alpha = 0.299$ for $T = 288$ K. "
   ]
  },
  {
   "cell_type": "markdown",
   "metadata": {
    "slideshow": {
     "slide_type": "slide"
    }
   },
   "source": [
    "### Coding up the model in Python\n",
    "\n",
    "This largely repeats what I asked you to do in your homework."
   ]
  },
  {
   "cell_type": "code",
   "execution_count": 6,
   "metadata": {
    "collapsed": true,
    "slideshow": {
     "slide_type": "slide"
    }
   },
   "outputs": [],
   "source": [
    "%matplotlib inline\n",
    "import numpy as np\n",
    "import matplotlib.pyplot as plt"
   ]
  },
  {
   "cell_type": "code",
   "execution_count": 7,
   "metadata": {
    "collapsed": true,
    "slideshow": {
     "slide_type": "slide"
    }
   },
   "outputs": [],
   "source": [
    "def albedo(T, alpha_o = 0.289, alpha_i = 0.7, To = 293., Ti = 260.):\n",
    "    alb1 = alpha_o + (alpha_i-alpha_o)*(T-To)**2 / (Ti - To)**2\n",
    "    alb2 = np.where(T>Ti, alb1, alpha_i)\n",
    "    alb3 = np.where(T<To, alb2, alpha_o)\n",
    "    return alb3"
   ]
  },
  {
   "cell_type": "code",
   "execution_count": 8,
   "metadata": {
    "collapsed": true,
    "slideshow": {
     "slide_type": "slide"
    }
   },
   "outputs": [],
   "source": [
    "def ASR(T, Q=341.3):\n",
    "    alpha = albedo(T)\n",
    "    return Q * (1-alpha)\n",
    "\n",
    "def OLR(T, sigma=5.67E-8, beta=0.885):\n",
    "    return sigma * (beta*T)**4\n",
    "\n",
    "def Ftoa(T):\n",
    "    return ASR(T) - OLR(T)"
   ]
  },
  {
   "cell_type": "code",
   "execution_count": 9,
   "metadata": {
    "slideshow": {
     "slide_type": "slide"
    }
   },
   "outputs": [
    {
     "data": {
      "text/plain": [
       "<matplotlib.text.Text at 0x1165f2f98>"
      ]
     },
     "execution_count": 9,
     "metadata": {},
     "output_type": "execute_result"
    },
    {
     "data": {
      "image/png": "[encoded data removed]",
      "text/plain": [
       "<matplotlib.figure.Figure at 0x10e12a128>"
      ]
     },
     "metadata": {},
     "output_type": "display_data"
    }
   ],
   "source": [
    "T = np.linspace(220., 300., 100)\n",
    "\n",
    "plt.plot(T, albedo(T))\n",
    "plt.xlabel('Temperature (K)')\n",
    "plt.ylabel('albedo')\n",
    "plt.ylim(0,1)\n",
    "plt.title('Albedo as a function of global mean temperature')"
   ]
  },
  {
   "cell_type": "markdown",
   "metadata": {
    "slideshow": {
     "slide_type": "slide"
    }
   },
   "source": [
    "### Graphical solution: TOA fluxes as functions of temperature"
   ]
  },
  {
   "cell_type": "code",
   "execution_count": 10,
   "metadata": {
    "slideshow": {
     "slide_type": "slide"
    }
   },
   "outputs": [
    {
     "data": {
      "text/plain": [
       "<matplotlib.legend.Legend at 0x116774ac8>"
      ]
     },
     "execution_count": 10,
     "metadata": {},
     "output_type": "execute_result"
    },
    {
     "data": {
      "image/png": "[encoded data removed]",
      "text/plain": [
       "<matplotlib.figure.Figure at 0x1165f2240>"
      ]
     },
     "metadata": {},
     "output_type": "display_data"
    }
   ],
   "source": [
    "plt.plot(T, OLR(T), label='OLR')\n",
    "plt.plot(T, ASR(T), label='ASR')\n",
    "plt.plot(T, Ftoa(T), label='Ftoa')\n",
    "plt.xlabel('Surface temperature (K)')\n",
    "plt.ylabel('TOA flux (W m$^{-2}$)')\n",
    "plt.grid()\n",
    "plt.legend(loc='upper left')"
   ]
  },
  {
   "cell_type": "markdown",
   "metadata": {
    "slideshow": {
     "slide_type": "slide"
    }
   },
   "source": [
    "The graphs meet at three different points! That means there are actually three different possible equilibrium temperatures in this model."
   ]
  },
  {
   "cell_type": "markdown",
   "metadata": {
    "slideshow": {
     "slide_type": "slide"
    }
   },
   "source": [
    "### Numerical solution to get the three equilibrium temperatures"
   ]
  },
  {
   "cell_type": "code",
   "execution_count": 11,
   "metadata": {
    "slideshow": {
     "slide_type": "fragment"
    }
   },
   "outputs": [
    {
     "name": "stdout",
     "output_type": "stream",
     "text": [
      "288.07486360356785 273.9423668460388 232.92995904643783\n"
     ]
    }
   ],
   "source": [
    "# Use numerical root-finding to get the equilibria\n",
    "from scipy.optimize import brentq\n",
    "# brentq is a root-finding function\n",
    "#  Need to give it a function and two end-points\n",
    "#  It will look for a zero of the function between those end-points\n",
    "Teq1 = brentq(Ftoa, 280., 300.)\n",
    "Teq2 = brentq(Ftoa, 260., 280.)\n",
    "Teq3 = brentq(Ftoa, 200., 260.)\n",
    "\n",
    "print( Teq1, Teq2, Teq3)"
   ]
  },
  {
   "cell_type": "markdown",
   "metadata": {},
   "source": [
    "### Bonus exercise\n",
    "\n",
    "Using numerical timestepping and different initial temperatures, can you get the model to converge on all three equilibria, or only some of them?\n",
    "\n",
    "What do you think this means?"
   ]
  },
  {
   "cell_type": "markdown",
   "metadata": {
    "slideshow": {
     "slide_type": "skip"
    }
   },
   "source": [
    "<div class=\"alert alert-success\">\n",
    "[Back to ATM 623 notebook home](../index.ipynb)\n",
    "</div>"
   ]
  },
  {
   "cell_type": "markdown",
   "metadata": {
    "slideshow": {
     "slide_type": "skip"
    }
   },
   "source": [
    "____________\n",
    "## Version information\n",
    "____________\n"
   ]
  },
  {
   "cell_type": "code",
   "execution_count": 12,
   "metadata": {
    "slideshow": {
     "slide_type": "skip"
    }
   },
   "outputs": [
    {
     "name": "stdout",
     "output_type": "stream",
     "text": [
      "Loading extensions from ~/.ipython/extensions is deprecated. We recommend managing extensions like any other Python packages, in site-packages.\n"
     ]
    },
    {
     "data": {
      "application/json": {
       "Software versions": [
        {
         "module": "Python",
         "version": "3.6.2 64bit [GCC 4.2.1 Compatible Clang 4.0.1 (tags/RELEASE_401/final)]"
        },
        {
         "module": "IPython",
         "version": "6.1.0"
        },
        {
         "module": "OS",
         "version": "Darwin 16.7.0 x86_64 i386 64bit"
        },
        {
         "module": "numpy",
         "version": "1.13.1"
        },
        {
         "module": "scipy",
         "version": "0.19.1"
        },
        {
         "module": "matplotlib",
         "version": "2.0.2"
        }
       ]
      },
      "text/html": [
       "<table><tr><th>Software</th><th>Version</th></tr><tr><td>Python</td><td>3.6.2 64bit [GCC 4.2.1 Compatible Clang 4.0.1 (tags/RELEASE_401/final)]</td></tr><tr><td>IPython</td><td>6.1.0</td></tr><tr><td>OS</td><td>Darwin 16.7.0 x86_64 i386 64bit</td></tr><tr><td>numpy</td><td>1.13.1</td></tr><tr><td>scipy</td><td>0.19.1</td></tr><tr><td>matplotlib</td><td>2.0.2</td></tr><tr><td colspan='2'>Wed Oct 11 13:28:26 2017 EDT</td></tr></table>"
      ],
      "text/latex": [
       "\\begin{tabular}{|l|l|}\\hline\n",
       "{\\bf Software} & {\\bf Version} \\\\ \\hline\\hline\n",
       "Python & 3.6.2 64bit [GCC 4.2.1 Compatible Clang 4.0.1 (tags/RELEASE\\_401/final)] \\\\ \\hline\n",
       "IPython & 6.1.0 \\\\ \\hline\n",
       "OS & Darwin 16.7.0 x86\\_64 i386 64bit \\\\ \\hline\n",
       "numpy & 1.13.1 \\\\ \\hline\n",
       "scipy & 0.19.1 \\\\ \\hline\n",
       "matplotlib & 2.0.2 \\\\ \\hline\n",
       "\\hline \\multicolumn{2}{|l|}{Wed Oct 11 13:28:26 2017 EDT} \\\\ \\hline\n",
       "\\end{tabular}\n"
      ],
      "text/plain": [
       "Software versions\n",
       "Python 3.6.2 64bit [GCC 4.2.1 Compatible Clang 4.0.1 (tags/RELEASE_401/final)]\n",
       "IPython 6.1.0\n",
       "OS Darwin 16.7.0 x86_64 i386 64bit\n",
       "numpy 1.13.1\n",
       "scipy 0.19.1\n",
       "matplotlib 2.0.2\n",
       "Wed Oct 11 13:28:26 2017 EDT"
      ]
     },
     "execution_count": 12,
     "metadata": {},
     "output_type": "execute_result"
    }
   ],
   "source": [
    "%load_ext version_information\n",
    "%version_information numpy, scipy, matplotlib"
   ]
  },
  {
   "cell_type": "markdown",
   "metadata": {
    "slideshow": {
     "slide_type": "skip"
    }
   },
   "source": [
    "____________\n",
    "\n",
    "## Credits\n",
    "\n",
    "The author of this notebook is [Brian E. J. Rose](http://www.atmos.albany.edu/facstaff/brose/index.html), University at Albany.\n",
    "\n",
    "It was developed in support of [ATM 623: Climate Modeling](http://www.atmos.albany.edu/facstaff/brose/classes/ATM623_Spring2015/), a graduate-level course in the [Department of Atmospheric and Envionmental Sciences](http://www.albany.edu/atmos/index.php)\n",
    "\n",
    "Development of these notes and the [climlab software](https://github.com/brian-rose/climlab) is partially supported by the National Science Foundation under award AGS-1455071 to Brian Rose. Any opinions, findings, conclusions or recommendations expressed here are mine and do not necessarily reflect the views of the National Science Foundation.\n",
    "____________"
   ]
  },
  {
   "cell_type": "code",
   "execution_count": null,
   "metadata": {
    "collapsed": true
   },
   "outputs": [],
   "source": []
  }
 ],
 "metadata": {
  "anaconda-cloud": {},
  "kernelspec": {
   "display_name": "Python 3",
   "language": "python",
   "name": "python3"
  },
  "language_info": {
   "codemirror_mode": {
    "name": "ipython",
    "version": 3
   },
   "file_extension": ".py",
   "mimetype": "text/x-python",
   "name": "python",
   "nbconvert_exporter": "python",
   "pygments_lexer": "ipython3",
   "version": "3.6.2"
  }
 },
 "nbformat": 4,
 "nbformat_minor": 1
}
